{
  "nbformat": 4,
  "nbformat_minor": 0,
  "metadata": {
    "colab": {
      "provenance": [],
      "authorship_tag": "ABX9TyO/V46aOn1pcjCSenvpNy6E",
      "include_colab_link": true
    },
    "kernelspec": {
      "name": "python3",
      "display_name": "Python 3"
    },
    "language_info": {
      "name": "python"
    },
    "widgets": {
      "application/vnd.jupyter.widget-state+json": {
        "86f8d8d5c7114124a7318c0c27ee156b": {
          "model_module": "@jupyter-widgets/controls",
          "model_name": "TextModel",
          "model_module_version": "1.5.0",
          "state": {
            "_dom_classes": [],
            "_model_module": "@jupyter-widgets/controls",
            "_model_module_version": "1.5.0",
            "_model_name": "TextModel",
            "_view_count": null,
            "_view_module": "@jupyter-widgets/controls",
            "_view_module_version": "1.5.0",
            "_view_name": "TextView",
            "continuous_update": true,
            "description": "Código:",
            "description_tooltip": null,
            "disabled": false,
            "layout": "IPY_MODEL_79886150e6214965bad3a44b4fc87f27",
            "placeholder": "​",
            "style": "IPY_MODEL_bcc1735792224db397571c73d084c3bd",
            "value": ""
          }
        },
        "79886150e6214965bad3a44b4fc87f27": {
          "model_module": "@jupyter-widgets/base",
          "model_name": "LayoutModel",
          "model_module_version": "1.2.0",
          "state": {
            "_model_module": "@jupyter-widgets/base",
            "_model_module_version": "1.2.0",
            "_model_name": "LayoutModel",
            "_view_count": null,
            "_view_module": "@jupyter-widgets/base",
            "_view_module_version": "1.2.0",
            "_view_name": "LayoutView",
            "align_content": null,
            "align_items": null,
            "align_self": null,
            "border": null,
            "bottom": null,
            "display": null,
            "flex": null,
            "flex_flow": null,
            "grid_area": null,
            "grid_auto_columns": null,
            "grid_auto_flow": null,
            "grid_auto_rows": null,
            "grid_column": null,
            "grid_gap": null,
            "grid_row": null,
            "grid_template_areas": null,
            "grid_template_columns": null,
            "grid_template_rows": null,
            "height": null,
            "justify_content": null,
            "justify_items": null,
            "left": null,
            "margin": null,
            "max_height": null,
            "max_width": null,
            "min_height": null,
            "min_width": null,
            "object_fit": null,
            "object_position": null,
            "order": null,
            "overflow": null,
            "overflow_x": null,
            "overflow_y": null,
            "padding": null,
            "right": null,
            "top": null,
            "visibility": null,
            "width": null
          }
        },
        "bcc1735792224db397571c73d084c3bd": {
          "model_module": "@jupyter-widgets/controls",
          "model_name": "DescriptionStyleModel",
          "model_module_version": "1.5.0",
          "state": {
            "_model_module": "@jupyter-widgets/controls",
            "_model_module_version": "1.5.0",
            "_model_name": "DescriptionStyleModel",
            "_view_count": null,
            "_view_module": "@jupyter-widgets/base",
            "_view_module_version": "1.2.0",
            "_view_name": "StyleView",
            "description_width": ""
          }
        },
        "6345dccacff14c2a9520ff6f6c8ee26a": {
          "model_module": "@jupyter-widgets/controls",
          "model_name": "TextModel",
          "model_module_version": "1.5.0",
          "state": {
            "_dom_classes": [],
            "_model_module": "@jupyter-widgets/controls",
            "_model_module_version": "1.5.0",
            "_model_name": "TextModel",
            "_view_count": null,
            "_view_module": "@jupyter-widgets/controls",
            "_view_module_version": "1.5.0",
            "_view_name": "TextView",
            "continuous_update": true,
            "description": "Nombres:",
            "description_tooltip": null,
            "disabled": false,
            "layout": "IPY_MODEL_354f14f58217466a9854e53ef188d59a",
            "placeholder": "​",
            "style": "IPY_MODEL_772a345c77af4d639e04540762bb501f",
            "value": ""
          }
        },
        "354f14f58217466a9854e53ef188d59a": {
          "model_module": "@jupyter-widgets/base",
          "model_name": "LayoutModel",
          "model_module_version": "1.2.0",
          "state": {
            "_model_module": "@jupyter-widgets/base",
            "_model_module_version": "1.2.0",
            "_model_name": "LayoutModel",
            "_view_count": null,
            "_view_module": "@jupyter-widgets/base",
            "_view_module_version": "1.2.0",
            "_view_name": "LayoutView",
            "align_content": null,
            "align_items": null,
            "align_self": null,
            "border": null,
            "bottom": null,
            "display": null,
            "flex": null,
            "flex_flow": null,
            "grid_area": null,
            "grid_auto_columns": null,
            "grid_auto_flow": null,
            "grid_auto_rows": null,
            "grid_column": null,
            "grid_gap": null,
            "grid_row": null,
            "grid_template_areas": null,
            "grid_template_columns": null,
            "grid_template_rows": null,
            "height": null,
            "justify_content": null,
            "justify_items": null,
            "left": null,
            "margin": null,
            "max_height": null,
            "max_width": null,
            "min_height": null,
            "min_width": null,
            "object_fit": null,
            "object_position": null,
            "order": null,
            "overflow": null,
            "overflow_x": null,
            "overflow_y": null,
            "padding": null,
            "right": null,
            "top": null,
            "visibility": null,
            "width": null
          }
        },
        "772a345c77af4d639e04540762bb501f": {
          "model_module": "@jupyter-widgets/controls",
          "model_name": "DescriptionStyleModel",
          "model_module_version": "1.5.0",
          "state": {
            "_model_module": "@jupyter-widgets/controls",
            "_model_module_version": "1.5.0",
            "_model_name": "DescriptionStyleModel",
            "_view_count": null,
            "_view_module": "@jupyter-widgets/base",
            "_view_module_version": "1.2.0",
            "_view_name": "StyleView",
            "description_width": ""
          }
        },
        "b155c66804354f7bb6746c3c4c22c5da": {
          "model_module": "@jupyter-widgets/controls",
          "model_name": "TextModel",
          "model_module_version": "1.5.0",
          "state": {
            "_dom_classes": [],
            "_model_module": "@jupyter-widgets/controls",
            "_model_module_version": "1.5.0",
            "_model_name": "TextModel",
            "_view_count": null,
            "_view_module": "@jupyter-widgets/controls",
            "_view_module_version": "1.5.0",
            "_view_name": "TextView",
            "continuous_update": true,
            "description": "Horas:",
            "description_tooltip": null,
            "disabled": false,
            "layout": "IPY_MODEL_9147934caca94b5b9ee52490bff9dda7",
            "placeholder": "​",
            "style": "IPY_MODEL_6ae84920418d4d6bb829ac0e63ea388b",
            "value": ""
          }
        },
        "9147934caca94b5b9ee52490bff9dda7": {
          "model_module": "@jupyter-widgets/base",
          "model_name": "LayoutModel",
          "model_module_version": "1.2.0",
          "state": {
            "_model_module": "@jupyter-widgets/base",
            "_model_module_version": "1.2.0",
            "_model_name": "LayoutModel",
            "_view_count": null,
            "_view_module": "@jupyter-widgets/base",
            "_view_module_version": "1.2.0",
            "_view_name": "LayoutView",
            "align_content": null,
            "align_items": null,
            "align_self": null,
            "border": null,
            "bottom": null,
            "display": null,
            "flex": null,
            "flex_flow": null,
            "grid_area": null,
            "grid_auto_columns": null,
            "grid_auto_flow": null,
            "grid_auto_rows": null,
            "grid_column": null,
            "grid_gap": null,
            "grid_row": null,
            "grid_template_areas": null,
            "grid_template_columns": null,
            "grid_template_rows": null,
            "height": null,
            "justify_content": null,
            "justify_items": null,
            "left": null,
            "margin": null,
            "max_height": null,
            "max_width": null,
            "min_height": null,
            "min_width": null,
            "object_fit": null,
            "object_position": null,
            "order": null,
            "overflow": null,
            "overflow_x": null,
            "overflow_y": null,
            "padding": null,
            "right": null,
            "top": null,
            "visibility": null,
            "width": null
          }
        },
        "6ae84920418d4d6bb829ac0e63ea388b": {
          "model_module": "@jupyter-widgets/controls",
          "model_name": "DescriptionStyleModel",
          "model_module_version": "1.5.0",
          "state": {
            "_model_module": "@jupyter-widgets/controls",
            "_model_module_version": "1.5.0",
            "_model_name": "DescriptionStyleModel",
            "_view_count": null,
            "_view_module": "@jupyter-widgets/base",
            "_view_module_version": "1.2.0",
            "_view_name": "StyleView",
            "description_width": ""
          }
        },
        "d070470995024435b35e32322e29b8f7": {
          "model_module": "@jupyter-widgets/controls",
          "model_name": "TextModel",
          "model_module_version": "1.5.0",
          "state": {
            "_dom_classes": [],
            "_model_module": "@jupyter-widgets/controls",
            "_model_module_version": "1.5.0",
            "_model_name": "TextModel",
            "_view_count": null,
            "_view_module": "@jupyter-widgets/controls",
            "_view_module_version": "1.5.0",
            "_view_name": "TextView",
            "continuous_update": true,
            "description": "Valor hora:",
            "description_tooltip": null,
            "disabled": false,
            "layout": "IPY_MODEL_08e8af70987e485c88dd2b7dc610f7d2",
            "placeholder": "​",
            "style": "IPY_MODEL_922e47b8ca124ea19f1fb54f442bf17a",
            "value": ""
          }
        },
        "08e8af70987e485c88dd2b7dc610f7d2": {
          "model_module": "@jupyter-widgets/base",
          "model_name": "LayoutModel",
          "model_module_version": "1.2.0",
          "state": {
            "_model_module": "@jupyter-widgets/base",
            "_model_module_version": "1.2.0",
            "_model_name": "LayoutModel",
            "_view_count": null,
            "_view_module": "@jupyter-widgets/base",
            "_view_module_version": "1.2.0",
            "_view_name": "LayoutView",
            "align_content": null,
            "align_items": null,
            "align_self": null,
            "border": null,
            "bottom": null,
            "display": null,
            "flex": null,
            "flex_flow": null,
            "grid_area": null,
            "grid_auto_columns": null,
            "grid_auto_flow": null,
            "grid_auto_rows": null,
            "grid_column": null,
            "grid_gap": null,
            "grid_row": null,
            "grid_template_areas": null,
            "grid_template_columns": null,
            "grid_template_rows": null,
            "height": null,
            "justify_content": null,
            "justify_items": null,
            "left": null,
            "margin": null,
            "max_height": null,
            "max_width": null,
            "min_height": null,
            "min_width": null,
            "object_fit": null,
            "object_position": null,
            "order": null,
            "overflow": null,
            "overflow_x": null,
            "overflow_y": null,
            "padding": null,
            "right": null,
            "top": null,
            "visibility": null,
            "width": null
          }
        },
        "922e47b8ca124ea19f1fb54f442bf17a": {
          "model_module": "@jupyter-widgets/controls",
          "model_name": "DescriptionStyleModel",
          "model_module_version": "1.5.0",
          "state": {
            "_model_module": "@jupyter-widgets/controls",
            "_model_module_version": "1.5.0",
            "_model_name": "DescriptionStyleModel",
            "_view_count": null,
            "_view_module": "@jupyter-widgets/base",
            "_view_module_version": "1.2.0",
            "_view_name": "StyleView",
            "description_width": ""
          }
        },
        "d0c17d2efc1244ef9287beb3bb82bb06": {
          "model_module": "@jupyter-widgets/controls",
          "model_name": "TextModel",
          "model_module_version": "1.5.0",
          "state": {
            "_dom_classes": [],
            "_model_module": "@jupyter-widgets/controls",
            "_model_module_version": "1.5.0",
            "_model_name": "TextModel",
            "_view_count": null,
            "_view_module": "@jupyter-widgets/controls",
            "_view_module_version": "1.5.0",
            "_view_name": "TextView",
            "continuous_update": true,
            "description": "Retención (%):",
            "description_tooltip": null,
            "disabled": false,
            "layout": "IPY_MODEL_e1dd16ac0b5d4d05b4d0f3cf73acc4af",
            "placeholder": "​",
            "style": "IPY_MODEL_896579c9137f4545a0803e8887ce0131",
            "value": ""
          }
        },
        "e1dd16ac0b5d4d05b4d0f3cf73acc4af": {
          "model_module": "@jupyter-widgets/base",
          "model_name": "LayoutModel",
          "model_module_version": "1.2.0",
          "state": {
            "_model_module": "@jupyter-widgets/base",
            "_model_module_version": "1.2.0",
            "_model_name": "LayoutModel",
            "_view_count": null,
            "_view_module": "@jupyter-widgets/base",
            "_view_module_version": "1.2.0",
            "_view_name": "LayoutView",
            "align_content": null,
            "align_items": null,
            "align_self": null,
            "border": null,
            "bottom": null,
            "display": null,
            "flex": null,
            "flex_flow": null,
            "grid_area": null,
            "grid_auto_columns": null,
            "grid_auto_flow": null,
            "grid_auto_rows": null,
            "grid_column": null,
            "grid_gap": null,
            "grid_row": null,
            "grid_template_areas": null,
            "grid_template_columns": null,
            "grid_template_rows": null,
            "height": null,
            "justify_content": null,
            "justify_items": null,
            "left": null,
            "margin": null,
            "max_height": null,
            "max_width": null,
            "min_height": null,
            "min_width": null,
            "object_fit": null,
            "object_position": null,
            "order": null,
            "overflow": null,
            "overflow_x": null,
            "overflow_y": null,
            "padding": null,
            "right": null,
            "top": null,
            "visibility": null,
            "width": null
          }
        },
        "896579c9137f4545a0803e8887ce0131": {
          "model_module": "@jupyter-widgets/controls",
          "model_name": "DescriptionStyleModel",
          "model_module_version": "1.5.0",
          "state": {
            "_model_module": "@jupyter-widgets/controls",
            "_model_module_version": "1.5.0",
            "_model_name": "DescriptionStyleModel",
            "_view_count": null,
            "_view_module": "@jupyter-widgets/base",
            "_view_module_version": "1.2.0",
            "_view_name": "StyleView",
            "description_width": ""
          }
        },
        "133d7f54c1d941348e6c1036e2275f26": {
          "model_module": "@jupyter-widgets/controls",
          "model_name": "ButtonModel",
          "model_module_version": "1.5.0",
          "state": {
            "_dom_classes": [],
            "_model_module": "@jupyter-widgets/controls",
            "_model_module_version": "1.5.0",
            "_model_name": "ButtonModel",
            "_view_count": null,
            "_view_module": "@jupyter-widgets/controls",
            "_view_module_version": "1.5.0",
            "_view_name": "ButtonView",
            "button_style": "",
            "description": "Calcular",
            "disabled": false,
            "icon": "",
            "layout": "IPY_MODEL_e74469cdd9e14bdfba5f6deeb0fd3d05",
            "style": "IPY_MODEL_2714a58780ea4e1eb851dd6cf62332e5",
            "tooltip": ""
          }
        },
        "e74469cdd9e14bdfba5f6deeb0fd3d05": {
          "model_module": "@jupyter-widgets/base",
          "model_name": "LayoutModel",
          "model_module_version": "1.2.0",
          "state": {
            "_model_module": "@jupyter-widgets/base",
            "_model_module_version": "1.2.0",
            "_model_name": "LayoutModel",
            "_view_count": null,
            "_view_module": "@jupyter-widgets/base",
            "_view_module_version": "1.2.0",
            "_view_name": "LayoutView",
            "align_content": null,
            "align_items": null,
            "align_self": null,
            "border": null,
            "bottom": null,
            "display": null,
            "flex": null,
            "flex_flow": null,
            "grid_area": null,
            "grid_auto_columns": null,
            "grid_auto_flow": null,
            "grid_auto_rows": null,
            "grid_column": null,
            "grid_gap": null,
            "grid_row": null,
            "grid_template_areas": null,
            "grid_template_columns": null,
            "grid_template_rows": null,
            "height": null,
            "justify_content": null,
            "justify_items": null,
            "left": null,
            "margin": null,
            "max_height": null,
            "max_width": null,
            "min_height": null,
            "min_width": null,
            "object_fit": null,
            "object_position": null,
            "order": null,
            "overflow": null,
            "overflow_x": null,
            "overflow_y": null,
            "padding": null,
            "right": null,
            "top": null,
            "visibility": null,
            "width": null
          }
        },
        "2714a58780ea4e1eb851dd6cf62332e5": {
          "model_module": "@jupyter-widgets/controls",
          "model_name": "ButtonStyleModel",
          "model_module_version": "1.5.0",
          "state": {
            "_model_module": "@jupyter-widgets/controls",
            "_model_module_version": "1.5.0",
            "_model_name": "ButtonStyleModel",
            "_view_count": null,
            "_view_module": "@jupyter-widgets/base",
            "_view_module_version": "1.2.0",
            "_view_name": "StyleView",
            "button_color": null,
            "font_weight": ""
          }
        },
        "18e32acbfdd944cfad1d900703f41386": {
          "model_module": "@jupyter-widgets/output",
          "model_name": "OutputModel",
          "model_module_version": "1.0.0",
          "state": {
            "_dom_classes": [],
            "_model_module": "@jupyter-widgets/output",
            "_model_module_version": "1.0.0",
            "_model_name": "OutputModel",
            "_view_count": null,
            "_view_module": "@jupyter-widgets/output",
            "_view_module_version": "1.0.0",
            "_view_name": "OutputView",
            "layout": "IPY_MODEL_8101ef527bde4956a81c25986c19c773",
            "msg_id": "",
            "outputs": []
          }
        },
        "8101ef527bde4956a81c25986c19c773": {
          "model_module": "@jupyter-widgets/base",
          "model_name": "LayoutModel",
          "model_module_version": "1.2.0",
          "state": {
            "_model_module": "@jupyter-widgets/base",
            "_model_module_version": "1.2.0",
            "_model_name": "LayoutModel",
            "_view_count": null,
            "_view_module": "@jupyter-widgets/base",
            "_view_module_version": "1.2.0",
            "_view_name": "LayoutView",
            "align_content": null,
            "align_items": null,
            "align_self": null,
            "border": null,
            "bottom": null,
            "display": null,
            "flex": null,
            "flex_flow": null,
            "grid_area": null,
            "grid_auto_columns": null,
            "grid_auto_flow": null,
            "grid_auto_rows": null,
            "grid_column": null,
            "grid_gap": null,
            "grid_row": null,
            "grid_template_areas": null,
            "grid_template_columns": null,
            "grid_template_rows": null,
            "height": null,
            "justify_content": null,
            "justify_items": null,
            "left": null,
            "margin": null,
            "max_height": null,
            "max_width": null,
            "min_height": null,
            "min_width": null,
            "object_fit": null,
            "object_position": null,
            "order": null,
            "overflow": null,
            "overflow_x": null,
            "overflow_y": null,
            "padding": null,
            "right": null,
            "top": null,
            "visibility": null,
            "width": null
          }
        }
      }
    }
  },
  "cells": [
    {
      "cell_type": "markdown",
      "metadata": {
        "id": "view-in-github",
        "colab_type": "text"
      },
      "source": [
        "<a href=\"https://colab.research.google.com/github/jgrajalesa/Moda-3R-pagina-trabajo-para-Alejandro/blob/main/Actividad_3_POO_JJGA_2024_02.ipynb\" target=\"_parent\"><img src=\"https://colab.research.google.com/assets/colab-badge.svg\" alt=\"Open In Colab\"/></a>"
      ]
    },
    {
      "cell_type": "markdown",
      "source": [
        "EJERCICIO PROPUESTO 18:"
      ],
      "metadata": {
        "id": "kElWReFUGcHU"
      }
    },
    {
      "cell_type": "code",
      "execution_count": 1,
      "metadata": {
        "colab": {
          "base_uri": "https://localhost:8080/",
          "height": 201,
          "referenced_widgets": [
            "86f8d8d5c7114124a7318c0c27ee156b",
            "79886150e6214965bad3a44b4fc87f27",
            "bcc1735792224db397571c73d084c3bd",
            "6345dccacff14c2a9520ff6f6c8ee26a",
            "354f14f58217466a9854e53ef188d59a",
            "772a345c77af4d639e04540762bb501f",
            "b155c66804354f7bb6746c3c4c22c5da",
            "9147934caca94b5b9ee52490bff9dda7",
            "6ae84920418d4d6bb829ac0e63ea388b",
            "d070470995024435b35e32322e29b8f7",
            "08e8af70987e485c88dd2b7dc610f7d2",
            "922e47b8ca124ea19f1fb54f442bf17a",
            "d0c17d2efc1244ef9287beb3bb82bb06",
            "e1dd16ac0b5d4d05b4d0f3cf73acc4af",
            "896579c9137f4545a0803e8887ce0131",
            "133d7f54c1d941348e6c1036e2275f26",
            "e74469cdd9e14bdfba5f6deeb0fd3d05",
            "2714a58780ea4e1eb851dd6cf62332e5",
            "18e32acbfdd944cfad1d900703f41386",
            "8101ef527bde4956a81c25986c19c773"
          ]
        },
        "id": "yESW6q1eVn81",
        "outputId": "c0d8354c-988e-48fd-a007-98b83318ca0e"
      },
      "outputs": [
        {
          "output_type": "display_data",
          "data": {
            "text/plain": [
              "Text(value='', description='Código:')"
            ],
            "application/vnd.jupyter.widget-view+json": {
              "version_major": 2,
              "version_minor": 0,
              "model_id": "86f8d8d5c7114124a7318c0c27ee156b"
            }
          },
          "metadata": {}
        },
        {
          "output_type": "display_data",
          "data": {
            "text/plain": [
              "Text(value='', description='Nombres:')"
            ],
            "application/vnd.jupyter.widget-view+json": {
              "version_major": 2,
              "version_minor": 0,
              "model_id": "6345dccacff14c2a9520ff6f6c8ee26a"
            }
          },
          "metadata": {}
        },
        {
          "output_type": "display_data",
          "data": {
            "text/plain": [
              "Text(value='', description='Horas:')"
            ],
            "application/vnd.jupyter.widget-view+json": {
              "version_major": 2,
              "version_minor": 0,
              "model_id": "b155c66804354f7bb6746c3c4c22c5da"
            }
          },
          "metadata": {}
        },
        {
          "output_type": "display_data",
          "data": {
            "text/plain": [
              "Text(value='', description='Valor hora:')"
            ],
            "application/vnd.jupyter.widget-view+json": {
              "version_major": 2,
              "version_minor": 0,
              "model_id": "d070470995024435b35e32322e29b8f7"
            }
          },
          "metadata": {}
        },
        {
          "output_type": "display_data",
          "data": {
            "text/plain": [
              "Text(value='', description='Retención (%):')"
            ],
            "application/vnd.jupyter.widget-view+json": {
              "version_major": 2,
              "version_minor": 0,
              "model_id": "d0c17d2efc1244ef9287beb3bb82bb06"
            }
          },
          "metadata": {}
        },
        {
          "output_type": "display_data",
          "data": {
            "text/plain": [
              "Button(description='Calcular', style=ButtonStyle())"
            ],
            "application/vnd.jupyter.widget-view+json": {
              "version_major": 2,
              "version_minor": 0,
              "model_id": "133d7f54c1d941348e6c1036e2275f26"
            }
          },
          "metadata": {}
        },
        {
          "output_type": "display_data",
          "data": {
            "text/plain": [
              "Output()"
            ],
            "application/vnd.jupyter.widget-view+json": {
              "version_major": 2,
              "version_minor": 0,
              "model_id": "18e32acbfdd944cfad1d900703f41386"
            }
          },
          "metadata": {}
        }
      ],
      "source": [
        "import ipywidgets as widgets\n",
        "from IPython.display import display, clear_output\n",
        "\n",
        "# Clase para el empleado\n",
        "class Empleado:\n",
        "    def __init__(self, codigo, nombres, horas_trabajadas, valor_hora, retencion):\n",
        "        self.codigo = codigo\n",
        "        self.nombres = nombres\n",
        "        self.horas_trabajadas = horas_trabajadas\n",
        "        self.valor_hora = valor_hora\n",
        "        self.retencion = retencion\n",
        "\n",
        "    def calcular_salario_bruto(self):\n",
        "        return self.horas_trabajadas * self.valor_hora\n",
        "\n",
        "    def calcular_salario_neto(self):\n",
        "        salario_bruto = self.calcular_salario_bruto()\n",
        "        return salario_bruto * (1 - self.retencion / 100)\n",
        "\n",
        "\n",
        "# Función para capturar datos y mostrar resultados\n",
        "def calcular_salario(codigo, nombres, horas, valor_hora, retencion):\n",
        "    try:\n",
        "        # Convertir datos\n",
        "        horas = float(horas)\n",
        "        valor_hora = float(valor_hora)\n",
        "        retencion = float(retencion)\n",
        "\n",
        "        if horas <= 0 or valor_hora <= 0 or not (0 <= retencion <= 100):\n",
        "            raise ValueError(\"Datos inválidos.\")\n",
        "\n",
        "        # Crear empleado\n",
        "        empleado = Empleado(codigo, nombres, horas, valor_hora, retencion)\n",
        "        salario_bruto = empleado.calcular_salario_bruto()\n",
        "        salario_neto = empleado.calcular_salario_neto()\n",
        "\n",
        "        # Mostrar resultados\n",
        "        output.clear_output()\n",
        "        with output:\n",
        "            print(f\"Código: {codigo}\")\n",
        "            print(f\"Nombres: {nombres}\")\n",
        "            print(f\"Salario Bruto: ${salario_bruto:.2f}\")\n",
        "            print(f\"Salario Neto: ${salario_neto:.2f}\")\n",
        "    except ValueError:\n",
        "        output.clear_output()\n",
        "        with output:\n",
        "            print(\"Por favor, ingrese datos válidos.\")\n",
        "\n",
        "\n",
        "# Crear widgets\n",
        "codigo_input = widgets.Text(description=\"Código:\")\n",
        "nombres_input = widgets.Text(description=\"Nombres:\")\n",
        "horas_input = widgets.Text(description=\"Horas:\")\n",
        "valor_hora_input = widgets.Text(description=\"Valor hora:\")\n",
        "retencion_input = widgets.Text(description=\"Retención (%):\")\n",
        "calcular_button = widgets.Button(description=\"Calcular\")\n",
        "output = widgets.Output()\n",
        "\n",
        "# Conectar botón a la función\n",
        "def on_calcular_button_clicked(b):\n",
        "    calcular_salario(\n",
        "        codigo_input.value,\n",
        "        nombres_input.value,\n",
        "        horas_input.value,\n",
        "        valor_hora_input.value,\n",
        "        retencion_input.value,\n",
        "    )\n",
        "\n",
        "calcular_button.on_click(on_calcular_button_clicked)\n",
        "\n",
        "# Mostrar widgets\n",
        "display(codigo_input, nombres_input, horas_input, valor_hora_input, retencion_input, calcular_button, output)"
      ]
    },
    {
      "cell_type": "markdown",
      "source": [
        "EJERCICIO PROPUESTO 19"
      ],
      "metadata": {
        "id": "aA3LzfolGg4v"
      }
    },
    {
      "cell_type": "code",
      "source": [
        "class TrianguloEquilatero:\n",
        "    def __init__(self, lado):\n",
        "        self.lado = lado\n",
        "\n",
        "    def calcular_area(self):\n",
        "        return (3 ** 0.5 / 4) * self.lado ** 2\n",
        "\n",
        "    def calcular_perimetro(self):\n",
        "        return 3 * self.lado\n",
        "\n",
        "    def calcular_altura(self):\n",
        "        return (2 * self.calcular_area()) / self.lado\n",
        "\n",
        "def main():\n",
        "    try:\n",
        "        lado = float(input(\"Ingrese el valor del lado del triángulo equilátero: \"))\n",
        "        if lado <= 0:\n",
        "            print(\"El lado debe ser un número positivo.\")\n",
        "        else:\n",
        "            triangulo = TrianguloEquilatero(lado)\n",
        "            print(f\"Área: {triangulo.calcular_area()}\")\n",
        "            print(f\"Perímetro: {triangulo.calcular_perimetro()}\")\n",
        "            print(f\"Altura: {triangulo.calcular_altura()}\")\n",
        "    except ValueError:\n",
        "        print(\"Por favor, ingrese un número válido.\")\n",
        "\n",
        "if __name__ == \"__main__\":\n",
        "    main()"
      ],
      "metadata": {
        "id": "xbgZ8r82Gg-2",
        "colab": {
          "base_uri": "https://localhost:8080/"
        },
        "outputId": "dfa38c1e-1c2b-4b57-aef1-6125b4cd2573"
      },
      "execution_count": null,
      "outputs": [
        {
          "output_type": "stream",
          "name": "stdout",
          "text": [
            "Ingrese el valor del lado del triángulo equilátero: 1\n",
            "Área: 0.4330127018922193\n",
            "Perímetro: 3.0\n",
            "Altura: 0.8660254037844386\n"
          ]
        }
      ]
    },
    {
      "cell_type": "markdown",
      "source": [],
      "metadata": {
        "id": "Su6EY1l4cx5i"
      }
    },
    {
      "cell_type": "code",
      "source": [],
      "metadata": {
        "id": "tKmLpXI_cv8X"
      },
      "execution_count": null,
      "outputs": []
    }
  ]
}